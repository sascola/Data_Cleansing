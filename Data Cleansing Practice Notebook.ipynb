{
 "cells": [
  {
   "cell_type": "markdown",
   "metadata": {},
   "source": [
    "# Data Cleansing Procedcures"
   ]
  },
  {
   "cell_type": "markdown",
   "metadata": {},
   "source": [
    "There four identifiable categories of data cleansing activities:\n",
    "- Missing data\n",
    "- Irregular data\n",
    "- Unnecessary data\n",
    "- Inconsistent data"
   ]
  },
  {
   "cell_type": "markdown",
   "metadata": {},
   "source": [
    "This notebook will provide an example of the python code and procedures to perform these four data cleansing activities."
   ]
  },
  {
   "cell_type": "markdown",
   "metadata": {},
   "source": [
    "Full credit goes to \"Lianne & Justin\" and is based on their Medium article \"Data Cleaning in Python: the Ultimate Guide (2020)\"\n",
    "\n",
    "https://link.medium.com/CUwtGTwR53"
   ]
  },
  {
   "cell_type": "markdown",
   "metadata": {},
   "source": [
    "## Library Set Up "
   ]
  },
  {
   "cell_type": "code",
   "execution_count": 1,
   "metadata": {},
   "outputs": [],
   "source": [
    "# import packages\n",
    "import pandas as pd\n",
    "import numpy as np\n",
    "import seaborn as sns\n",
    "\n",
    "import matplotlib.pyplot as plt\n",
    "import matplotlib.mlab as mlab\n",
    "import matplotlib\n",
    "plt.style.use('ggplot')\n",
    "from matplotlib.pyplot import figure\n",
    "\n",
    "%matplotlib inline\n",
    "matplotlib.rcParams['figure.figsize'] = (12,8)\n",
    "\n",
    "pd.options.mode.chained_assignment = None "
   ]
  },
  {
   "cell_type": "markdown",
   "metadata": {},
   "source": [
    "## Read the Data and Summarize"
   ]
  },
  {
   "cell_type": "code",
   "execution_count": 2,
   "metadata": {},
   "outputs": [],
   "source": [
    "df = pd.read_csv('train.csv')"
   ]
  },
  {
   "cell_type": "code",
   "execution_count": 3,
   "metadata": {},
   "outputs": [
    {
     "name": "stdout",
     "output_type": "stream",
     "text": [
      "(30471, 292)\n",
      "id                      int64\n",
      "timestamp              object\n",
      "full_sq                 int64\n",
      "life_sq               float64\n",
      "floor                 float64\n",
      "                       ...   \n",
      "mosque_count_5000       int64\n",
      "leisure_count_5000      int64\n",
      "sport_count_5000        int64\n",
      "market_count_5000       int64\n",
      "price_doc               int64\n",
      "Length: 292, dtype: object\n"
     ]
    }
   ],
   "source": [
    "# shape and data types of the data\n",
    "print(df.shape)\n",
    "print(df.dtypes)"
   ]
  },
  {
   "cell_type": "markdown",
   "metadata": {},
   "source": [
    "Take note of the data types for any obvious typing that will hinder statisitical analysis.  For example, timestamps that are stings and not an actual \"datatime\" format. Also, features that should be numeric and are \"object\" type.  This will become more apparent with the next instruction."
   ]
  },
  {
   "cell_type": "code",
   "execution_count": 4,
   "metadata": {},
   "outputs": [
    {
     "name": "stdout",
     "output_type": "stream",
     "text": [
      "['id' 'full_sq' 'life_sq' 'floor' 'max_floor' 'material' 'build_year'\n",
      " 'num_room' 'kitch_sq' 'state' 'area_m' 'raion_popul' 'green_zone_part'\n",
      " 'indust_part' 'children_preschool' 'preschool_quota'\n",
      " 'preschool_education_centers_raion' 'children_school' 'school_quota'\n",
      " 'school_education_centers_raion' 'school_education_centers_top_20_raion'\n",
      " 'hospital_beds_raion' 'healthcare_centers_raion'\n",
      " 'university_top_20_raion' 'sport_objects_raion'\n",
      " 'additional_education_raion' 'culture_objects_top_25_raion'\n",
      " 'shopping_centers_raion' 'office_raion' 'full_all' 'male_f' 'female_f'\n",
      " 'young_all' 'young_male' 'young_female' 'work_all' 'work_male'\n",
      " 'work_female' 'ekder_all' 'ekder_male' 'ekder_female' '0_6_all'\n",
      " '0_6_male' '0_6_female' '7_14_all' '7_14_male' '7_14_female' '0_17_all'\n",
      " '0_17_male' '0_17_female' '16_29_all' '16_29_male' '16_29_female'\n",
      " '0_13_all' '0_13_male' '0_13_female'\n",
      " 'raion_build_count_with_material_info' 'build_count_block'\n",
      " 'build_count_wood' 'build_count_frame' 'build_count_brick'\n",
      " 'build_count_monolith' 'build_count_panel' 'build_count_foam'\n",
      " 'build_count_slag' 'build_count_mix'\n",
      " 'raion_build_count_with_builddate_info' 'build_count_before_1920'\n",
      " 'build_count_1921-1945' 'build_count_1946-1970' 'build_count_1971-1995'\n",
      " 'build_count_after_1995' 'ID_metro' 'metro_min_avto' 'metro_km_avto'\n",
      " 'metro_min_walk' 'metro_km_walk' 'kindergarten_km' 'school_km' 'park_km'\n",
      " 'green_zone_km' 'industrial_km' 'water_treatment_km' 'cemetery_km'\n",
      " 'incineration_km' 'railroad_station_walk_km' 'railroad_station_walk_min'\n",
      " 'ID_railroad_station_walk' 'railroad_station_avto_km'\n",
      " 'railroad_station_avto_min' 'ID_railroad_station_avto'\n",
      " 'public_transport_station_km' 'public_transport_station_min_walk'\n",
      " 'water_km' 'mkad_km' 'ttk_km' 'sadovoe_km' 'bulvar_ring_km' 'kremlin_km'\n",
      " 'big_road1_km' 'ID_big_road1' 'big_road2_km' 'ID_big_road2' 'railroad_km'\n",
      " 'zd_vokzaly_avto_km' 'ID_railroad_terminal' 'bus_terminal_avto_km'\n",
      " 'ID_bus_terminal' 'oil_chemistry_km' 'nuclear_reactor_km' 'radiation_km'\n",
      " 'power_transmission_line_km' 'thermal_power_plant_km' 'ts_km'\n",
      " 'big_market_km' 'market_shop_km' 'fitness_km' 'swim_pool_km'\n",
      " 'ice_rink_km' 'stadium_km' 'basketball_km' 'hospice_morgue_km'\n",
      " 'detention_facility_km' 'public_healthcare_km' 'university_km'\n",
      " 'workplaces_km' 'shopping_centers_km' 'office_km'\n",
      " 'additional_education_km' 'preschool_km' 'big_church_km'\n",
      " 'church_synagogue_km' 'mosque_km' 'theater_km' 'museum_km'\n",
      " 'exhibition_km' 'catering_km' 'green_part_500' 'prom_part_500'\n",
      " 'office_count_500' 'office_sqm_500' 'trc_count_500' 'trc_sqm_500'\n",
      " 'cafe_count_500' 'cafe_sum_500_min_price_avg'\n",
      " 'cafe_sum_500_max_price_avg' 'cafe_avg_price_500'\n",
      " 'cafe_count_500_na_price' 'cafe_count_500_price_500'\n",
      " 'cafe_count_500_price_1000' 'cafe_count_500_price_1500'\n",
      " 'cafe_count_500_price_2500' 'cafe_count_500_price_4000'\n",
      " 'cafe_count_500_price_high' 'big_church_count_500' 'church_count_500'\n",
      " 'mosque_count_500' 'leisure_count_500' 'sport_count_500'\n",
      " 'market_count_500' 'green_part_1000' 'prom_part_1000' 'office_count_1000'\n",
      " 'office_sqm_1000' 'trc_count_1000' 'trc_sqm_1000' 'cafe_count_1000'\n",
      " 'cafe_sum_1000_min_price_avg' 'cafe_sum_1000_max_price_avg'\n",
      " 'cafe_avg_price_1000' 'cafe_count_1000_na_price'\n",
      " 'cafe_count_1000_price_500' 'cafe_count_1000_price_1000'\n",
      " 'cafe_count_1000_price_1500' 'cafe_count_1000_price_2500'\n",
      " 'cafe_count_1000_price_4000' 'cafe_count_1000_price_high'\n",
      " 'big_church_count_1000' 'church_count_1000' 'mosque_count_1000'\n",
      " 'leisure_count_1000' 'sport_count_1000' 'market_count_1000'\n",
      " 'green_part_1500' 'prom_part_1500' 'office_count_1500' 'office_sqm_1500'\n",
      " 'trc_count_1500' 'trc_sqm_1500' 'cafe_count_1500'\n",
      " 'cafe_sum_1500_min_price_avg' 'cafe_sum_1500_max_price_avg'\n",
      " 'cafe_avg_price_1500' 'cafe_count_1500_na_price'\n",
      " 'cafe_count_1500_price_500' 'cafe_count_1500_price_1000'\n",
      " 'cafe_count_1500_price_1500' 'cafe_count_1500_price_2500'\n",
      " 'cafe_count_1500_price_4000' 'cafe_count_1500_price_high'\n",
      " 'big_church_count_1500' 'church_count_1500' 'mosque_count_1500'\n",
      " 'leisure_count_1500' 'sport_count_1500' 'market_count_1500'\n",
      " 'green_part_2000' 'prom_part_2000' 'office_count_2000' 'office_sqm_2000'\n",
      " 'trc_count_2000' 'trc_sqm_2000' 'cafe_count_2000'\n",
      " 'cafe_sum_2000_min_price_avg' 'cafe_sum_2000_max_price_avg'\n",
      " 'cafe_avg_price_2000' 'cafe_count_2000_na_price'\n",
      " 'cafe_count_2000_price_500' 'cafe_count_2000_price_1000'\n",
      " 'cafe_count_2000_price_1500' 'cafe_count_2000_price_2500'\n",
      " 'cafe_count_2000_price_4000' 'cafe_count_2000_price_high'\n",
      " 'big_church_count_2000' 'church_count_2000' 'mosque_count_2000'\n",
      " 'leisure_count_2000' 'sport_count_2000' 'market_count_2000'\n",
      " 'green_part_3000' 'prom_part_3000' 'office_count_3000' 'office_sqm_3000'\n",
      " 'trc_count_3000' 'trc_sqm_3000' 'cafe_count_3000'\n",
      " 'cafe_sum_3000_min_price_avg' 'cafe_sum_3000_max_price_avg'\n",
      " 'cafe_avg_price_3000' 'cafe_count_3000_na_price'\n",
      " 'cafe_count_3000_price_500' 'cafe_count_3000_price_1000'\n",
      " 'cafe_count_3000_price_1500' 'cafe_count_3000_price_2500'\n",
      " 'cafe_count_3000_price_4000' 'cafe_count_3000_price_high'\n",
      " 'big_church_count_3000' 'church_count_3000' 'mosque_count_3000'\n",
      " 'leisure_count_3000' 'sport_count_3000' 'market_count_3000'\n",
      " 'green_part_5000' 'prom_part_5000' 'office_count_5000' 'office_sqm_5000'\n",
      " 'trc_count_5000' 'trc_sqm_5000' 'cafe_count_5000'\n",
      " 'cafe_sum_5000_min_price_avg' 'cafe_sum_5000_max_price_avg'\n",
      " 'cafe_avg_price_5000' 'cafe_count_5000_na_price'\n",
      " 'cafe_count_5000_price_500' 'cafe_count_5000_price_1000'\n",
      " 'cafe_count_5000_price_1500' 'cafe_count_5000_price_2500'\n",
      " 'cafe_count_5000_price_4000' 'cafe_count_5000_price_high'\n",
      " 'big_church_count_5000' 'church_count_5000' 'mosque_count_5000'\n",
      " 'leisure_count_5000' 'sport_count_5000' 'market_count_5000' 'price_doc']\n"
     ]
    }
   ],
   "source": [
    "# select numeric columns\n",
    "df_numeric = df.select_dtypes(include=[np.number])\n",
    "numeric_cols = df_numeric.columns.values\n",
    "print(numeric_cols)"
   ]
  },
  {
   "cell_type": "code",
   "execution_count": 5,
   "metadata": {},
   "outputs": [
    {
     "name": "stdout",
     "output_type": "stream",
     "text": [
      "['timestamp' 'product_type' 'sub_area' 'culture_objects_top_25'\n",
      " 'thermal_power_plant_raion' 'incineration_raion' 'oil_chemistry_raion'\n",
      " 'radiation_raion' 'railroad_terminal_raion' 'big_market_raion'\n",
      " 'nuclear_reactor_raion' 'detention_facility_raion' 'water_1line'\n",
      " 'big_road1_1line' 'railroad_1line' 'ecology']\n"
     ]
    }
   ],
   "source": [
    "# select non numeric columns\n",
    "df_non_numeric = df.select_dtypes(exclude=[np.number])\n",
    "non_numeric_cols = df_non_numeric.columns.values\n",
    "print(non_numeric_cols)"
   ]
  },
  {
   "cell_type": "markdown",
   "metadata": {},
   "source": [
    "## Missing Data"
   ]
  },
  {
   "cell_type": "markdown",
   "metadata": {},
   "source": [
    "### Missing Data Heatmap "
   ]
  },
  {
   "cell_type": "markdown",
   "metadata": {},
   "source": [
    "The heatmap will show a specified number of columns or variables.  There are two colors assigned: yellow for missing data and blue"
   ]
  },
  {
   "cell_type": "code",
   "execution_count": 6,
   "metadata": {},
   "outputs": [
    {
     "data": {
      "text/plain": [
       "<matplotlib.axes._subplots.AxesSubplot at 0x1a21451a50>"
      ]
     },
     "execution_count": 6,
     "metadata": {},
     "output_type": "execute_result"
    },
    {
     "data": {
      "image/png": "[encoded data removed]",
      "text/plain": [
       "<Figure size 432x288 with 2 Axes>"
      ]
     },
     "metadata": {
      "needs_background": "light"
     },
     "output_type": "display_data"
    }
   ],
   "source": [
    "cols = df.columns[:30]   # assign first 30 columns\n",
    "colors = ['#000099', '#ffff00']    # specify the colors as yellow and blue\n",
    "sns.heatmap(df[cols].isnull(), cmap=sns.color_palette(colors))  "
   ]
  },
  {
   "cell_type": "markdown",
   "metadata": {},
   "source": [
    "### Missing Data Percentage List"
   ]
  },
  {
   "cell_type": "markdown",
   "metadata": {},
   "source": [
    " If it's a larger dataset and visualization takes too long this is a good alternative"
   ]
  },
  {
   "cell_type": "code",
   "execution_count": 7,
   "metadata": {},
   "outputs": [
    {
     "name": "stdout",
     "output_type": "stream",
     "text": [
      "id - 0.0%\n",
      "timestamp - 0.0%\n",
      "full_sq - 0.0%\n",
      "life_sq - 21.0%\n",
      "floor - 1.0%\n",
      "max_floor - 31.0%\n",
      "material - 31.0%\n",
      "build_year - 45.0%\n",
      "num_room - 31.0%\n",
      "kitch_sq - 31.0%\n",
      "state - 44.0%\n",
      "product_type - 0.0%\n",
      "sub_area - 0.0%\n",
      "area_m - 0.0%\n",
      "raion_popul - 0.0%\n",
      "green_zone_part - 0.0%\n",
      "indust_part - 0.0%\n",
      "children_preschool - 0.0%\n",
      "preschool_quota - 22.0%\n",
      "preschool_education_centers_raion - 0.0%\n",
      "children_school - 0.0%\n",
      "school_quota - 22.0%\n",
      "school_education_centers_raion - 0.0%\n",
      "school_education_centers_top_20_raion - 0.0%\n",
      "hospital_beds_raion - 47.0%\n",
      "healthcare_centers_raion - 0.0%\n",
      "university_top_20_raion - 0.0%\n",
      "sport_objects_raion - 0.0%\n",
      "additional_education_raion - 0.0%\n",
      "culture_objects_top_25 - 0.0%\n",
      "culture_objects_top_25_raion - 0.0%\n",
      "shopping_centers_raion - 0.0%\n",
      "office_raion - 0.0%\n",
      "thermal_power_plant_raion - 0.0%\n",
      "incineration_raion - 0.0%\n",
      "oil_chemistry_raion - 0.0%\n",
      "radiation_raion - 0.0%\n",
      "railroad_terminal_raion - 0.0%\n",
      "big_market_raion - 0.0%\n",
      "nuclear_reactor_raion - 0.0%\n",
      "detention_facility_raion - 0.0%\n",
      "full_all - 0.0%\n",
      "male_f - 0.0%\n",
      "female_f - 0.0%\n",
      "young_all - 0.0%\n",
      "young_male - 0.0%\n",
      "young_female - 0.0%\n",
      "work_all - 0.0%\n",
      "work_male - 0.0%\n",
      "work_female - 0.0%\n",
      "ekder_all - 0.0%\n",
      "ekder_male - 0.0%\n",
      "ekder_female - 0.0%\n",
      "0_6_all - 0.0%\n",
      "0_6_male - 0.0%\n",
      "0_6_female - 0.0%\n",
      "7_14_all - 0.0%\n",
      "7_14_male - 0.0%\n",
      "7_14_female - 0.0%\n",
      "0_17_all - 0.0%\n",
      "0_17_male - 0.0%\n",
      "0_17_female - 0.0%\n",
      "16_29_all - 0.0%\n",
      "16_29_male - 0.0%\n",
      "16_29_female - 0.0%\n",
      "0_13_all - 0.0%\n",
      "0_13_male - 0.0%\n",
      "0_13_female - 0.0%\n",
      "raion_build_count_with_material_info - 16.0%\n",
      "build_count_block - 16.0%\n",
      "build_count_wood - 16.0%\n",
      "build_count_frame - 16.0%\n",
      "build_count_brick - 16.0%\n",
      "build_count_monolith - 16.0%\n",
      "build_count_panel - 16.0%\n",
      "build_count_foam - 16.0%\n",
      "build_count_slag - 16.0%\n",
      "build_count_mix - 16.0%\n",
      "raion_build_count_with_builddate_info - 16.0%\n",
      "build_count_before_1920 - 16.0%\n",
      "build_count_1921-1945 - 16.0%\n",
      "build_count_1946-1970 - 16.0%\n",
      "build_count_1971-1995 - 16.0%\n",
      "build_count_after_1995 - 16.0%\n",
      "ID_metro - 0.0%\n",
      "metro_min_avto - 0.0%\n",
      "metro_km_avto - 0.0%\n",
      "metro_min_walk - 0.0%\n",
      "metro_km_walk - 0.0%\n",
      "kindergarten_km - 0.0%\n",
      "school_km - 0.0%\n",
      "park_km - 0.0%\n",
      "green_zone_km - 0.0%\n",
      "industrial_km - 0.0%\n",
      "water_treatment_km - 0.0%\n",
      "cemetery_km - 0.0%\n",
      "incineration_km - 0.0%\n",
      "railroad_station_walk_km - 0.0%\n",
      "railroad_station_walk_min - 0.0%\n",
      "ID_railroad_station_walk - 0.0%\n",
      "railroad_station_avto_km - 0.0%\n",
      "railroad_station_avto_min - 0.0%\n",
      "ID_railroad_station_avto - 0.0%\n",
      "public_transport_station_km - 0.0%\n",
      "public_transport_station_min_walk - 0.0%\n",
      "water_km - 0.0%\n",
      "water_1line - 0.0%\n",
      "mkad_km - 0.0%\n",
      "ttk_km - 0.0%\n",
      "sadovoe_km - 0.0%\n",
      "bulvar_ring_km - 0.0%\n",
      "kremlin_km - 0.0%\n",
      "big_road1_km - 0.0%\n",
      "ID_big_road1 - 0.0%\n",
      "big_road1_1line - 0.0%\n",
      "big_road2_km - 0.0%\n",
      "ID_big_road2 - 0.0%\n",
      "railroad_km - 0.0%\n",
      "railroad_1line - 0.0%\n",
      "zd_vokzaly_avto_km - 0.0%\n",
      "ID_railroad_terminal - 0.0%\n",
      "bus_terminal_avto_km - 0.0%\n",
      "ID_bus_terminal - 0.0%\n",
      "oil_chemistry_km - 0.0%\n",
      "nuclear_reactor_km - 0.0%\n",
      "radiation_km - 0.0%\n",
      "power_transmission_line_km - 0.0%\n",
      "thermal_power_plant_km - 0.0%\n",
      "ts_km - 0.0%\n",
      "big_market_km - 0.0%\n",
      "market_shop_km - 0.0%\n",
      "fitness_km - 0.0%\n",
      "swim_pool_km - 0.0%\n",
      "ice_rink_km - 0.0%\n",
      "stadium_km - 0.0%\n",
      "basketball_km - 0.0%\n",
      "hospice_morgue_km - 0.0%\n",
      "detention_facility_km - 0.0%\n",
      "public_healthcare_km - 0.0%\n",
      "university_km - 0.0%\n",
      "workplaces_km - 0.0%\n",
      "shopping_centers_km - 0.0%\n",
      "office_km - 0.0%\n",
      "additional_education_km - 0.0%\n",
      "preschool_km - 0.0%\n",
      "big_church_km - 0.0%\n",
      "church_synagogue_km - 0.0%\n",
      "mosque_km - 0.0%\n",
      "theater_km - 0.0%\n",
      "museum_km - 0.0%\n",
      "exhibition_km - 0.0%\n",
      "catering_km - 0.0%\n",
      "ecology - 0.0%\n",
      "green_part_500 - 0.0%\n",
      "prom_part_500 - 0.0%\n",
      "office_count_500 - 0.0%\n",
      "office_sqm_500 - 0.0%\n",
      "trc_count_500 - 0.0%\n",
      "trc_sqm_500 - 0.0%\n",
      "cafe_count_500 - 0.0%\n",
      "cafe_sum_500_min_price_avg - 44.0%\n",
      "cafe_sum_500_max_price_avg - 44.0%\n",
      "cafe_avg_price_500 - 44.0%\n",
      "cafe_count_500_na_price - 0.0%\n",
      "cafe_count_500_price_500 - 0.0%\n",
      "cafe_count_500_price_1000 - 0.0%\n",
      "cafe_count_500_price_1500 - 0.0%\n",
      "cafe_count_500_price_2500 - 0.0%\n",
      "cafe_count_500_price_4000 - 0.0%\n",
      "cafe_count_500_price_high - 0.0%\n",
      "big_church_count_500 - 0.0%\n",
      "church_count_500 - 0.0%\n",
      "mosque_count_500 - 0.0%\n",
      "leisure_count_500 - 0.0%\n",
      "sport_count_500 - 0.0%\n",
      "market_count_500 - 0.0%\n",
      "green_part_1000 - 0.0%\n",
      "prom_part_1000 - 0.0%\n",
      "office_count_1000 - 0.0%\n",
      "office_sqm_1000 - 0.0%\n",
      "trc_count_1000 - 0.0%\n",
      "trc_sqm_1000 - 0.0%\n",
      "cafe_count_1000 - 0.0%\n",
      "cafe_sum_1000_min_price_avg - 21.0%\n",
      "cafe_sum_1000_max_price_avg - 21.0%\n",
      "cafe_avg_price_1000 - 21.0%\n",
      "cafe_count_1000_na_price - 0.0%\n",
      "cafe_count_1000_price_500 - 0.0%\n",
      "cafe_count_1000_price_1000 - 0.0%\n",
      "cafe_count_1000_price_1500 - 0.0%\n",
      "cafe_count_1000_price_2500 - 0.0%\n",
      "cafe_count_1000_price_4000 - 0.0%\n",
      "cafe_count_1000_price_high - 0.0%\n",
      "big_church_count_1000 - 0.0%\n",
      "church_count_1000 - 0.0%\n",
      "mosque_count_1000 - 0.0%\n",
      "leisure_count_1000 - 0.0%\n",
      "sport_count_1000 - 0.0%\n",
      "market_count_1000 - 0.0%\n",
      "green_part_1500 - 0.0%\n",
      "prom_part_1500 - 0.0%\n",
      "office_count_1500 - 0.0%\n",
      "office_sqm_1500 - 0.0%\n",
      "trc_count_1500 - 0.0%\n",
      "trc_sqm_1500 - 0.0%\n",
      "cafe_count_1500 - 0.0%\n",
      "cafe_sum_1500_min_price_avg - 14.0%\n",
      "cafe_sum_1500_max_price_avg - 14.0%\n",
      "cafe_avg_price_1500 - 14.0%\n",
      "cafe_count_1500_na_price - 0.0%\n",
      "cafe_count_1500_price_500 - 0.0%\n",
      "cafe_count_1500_price_1000 - 0.0%\n",
      "cafe_count_1500_price_1500 - 0.0%\n",
      "cafe_count_1500_price_2500 - 0.0%\n",
      "cafe_count_1500_price_4000 - 0.0%\n",
      "cafe_count_1500_price_high - 0.0%\n",
      "big_church_count_1500 - 0.0%\n",
      "church_count_1500 - 0.0%\n",
      "mosque_count_1500 - 0.0%\n",
      "leisure_count_1500 - 0.0%\n",
      "sport_count_1500 - 0.0%\n",
      "market_count_1500 - 0.0%\n",
      "green_part_2000 - 0.0%\n",
      "prom_part_2000 - 0.0%\n",
      "office_count_2000 - 0.0%\n",
      "office_sqm_2000 - 0.0%\n",
      "trc_count_2000 - 0.0%\n",
      "trc_sqm_2000 - 0.0%\n",
      "cafe_count_2000 - 0.0%\n",
      "cafe_sum_2000_min_price_avg - 6.0%\n",
      "cafe_sum_2000_max_price_avg - 6.0%\n",
      "cafe_avg_price_2000 - 6.0%\n",
      "cafe_count_2000_na_price - 0.0%\n",
      "cafe_count_2000_price_500 - 0.0%\n",
      "cafe_count_2000_price_1000 - 0.0%\n",
      "cafe_count_2000_price_1500 - 0.0%\n",
      "cafe_count_2000_price_2500 - 0.0%\n",
      "cafe_count_2000_price_4000 - 0.0%\n",
      "cafe_count_2000_price_high - 0.0%\n",
      "big_church_count_2000 - 0.0%\n",
      "church_count_2000 - 0.0%\n",
      "mosque_count_2000 - 0.0%\n",
      "leisure_count_2000 - 0.0%\n",
      "sport_count_2000 - 0.0%\n",
      "market_count_2000 - 0.0%\n",
      "green_part_3000 - 0.0%\n",
      "prom_part_3000 - 0.0%\n",
      "office_count_3000 - 0.0%\n",
      "office_sqm_3000 - 0.0%\n",
      "trc_count_3000 - 0.0%\n",
      "trc_sqm_3000 - 0.0%\n",
      "cafe_count_3000 - 0.0%\n",
      "cafe_sum_3000_min_price_avg - 3.0%\n",
      "cafe_sum_3000_max_price_avg - 3.0%\n",
      "cafe_avg_price_3000 - 3.0%\n",
      "cafe_count_3000_na_price - 0.0%\n",
      "cafe_count_3000_price_500 - 0.0%\n",
      "cafe_count_3000_price_1000 - 0.0%\n",
      "cafe_count_3000_price_1500 - 0.0%\n",
      "cafe_count_3000_price_2500 - 0.0%\n",
      "cafe_count_3000_price_4000 - 0.0%\n",
      "cafe_count_3000_price_high - 0.0%\n",
      "big_church_count_3000 - 0.0%\n",
      "church_count_3000 - 0.0%\n",
      "mosque_count_3000 - 0.0%\n",
      "leisure_count_3000 - 0.0%\n",
      "sport_count_3000 - 0.0%\n",
      "market_count_3000 - 0.0%\n",
      "green_part_5000 - 0.0%\n",
      "prom_part_5000 - 1.0%\n",
      "office_count_5000 - 0.0%\n",
      "office_sqm_5000 - 0.0%\n",
      "trc_count_5000 - 0.0%\n",
      "trc_sqm_5000 - 0.0%\n",
      "cafe_count_5000 - 0.0%\n",
      "cafe_sum_5000_min_price_avg - 1.0%\n",
      "cafe_sum_5000_max_price_avg - 1.0%\n",
      "cafe_avg_price_5000 - 1.0%\n",
      "cafe_count_5000_na_price - 0.0%\n",
      "cafe_count_5000_price_500 - 0.0%\n",
      "cafe_count_5000_price_1000 - 0.0%\n",
      "cafe_count_5000_price_1500 - 0.0%\n",
      "cafe_count_5000_price_2500 - 0.0%\n",
      "cafe_count_5000_price_4000 - 0.0%\n",
      "cafe_count_5000_price_high - 0.0%\n",
      "big_church_count_5000 - 0.0%\n",
      "church_count_5000 - 0.0%\n",
      "mosque_count_5000 - 0.0%\n",
      "leisure_count_5000 - 0.0%\n",
      "sport_count_5000 - 0.0%\n",
      "market_count_5000 - 0.0%\n",
      "price_doc - 0.0%\n"
     ]
    }
   ],
   "source": [
    "for col in df.columns:\n",
    "    pct_missing = np.mean(df[col].isnull())\n",
    "    print('{} - {}%'.format(col, round(pct_missing*100)))"
   ]
  },
  {
   "cell_type": "markdown",
   "metadata": {},
   "source": [
    "### Missing Data Histogram"
   ]
  },
  {
   "cell_type": "code",
   "execution_count": 33,
   "metadata": {},
   "outputs": [
    {
     "data": {
      "text/plain": [
       "<matplotlib.axes._subplots.AxesSubplot at 0x1a4f5e2610>"
      ]
     },
     "execution_count": 33,
     "metadata": {},
     "output_type": "execute_result"
    },
    {
     "data": {
      "image/png": "[encoded data removed]",
      "text/plain": [
       "<Figure size 432x288 with 1 Axes>"
      ]
     },
     "metadata": {
      "needs_background": "light"
     },
     "output_type": "display_data"
    }
   ],
   "source": [
    "# first create the missing indicator for features with the missing data\n",
    "# the histogram only plots the features with missing data\n",
    "# you may not want to delete the features immediately but to have an identifier that helps you include or exclude them in later transformation steps\n",
    "\n",
    "for col in df.columns:\n",
    "        missing = df[col].isnull()\n",
    "        num_missing = np.sum(missing)\n",
    "        \n",
    "        if num_missing > 0:\n",
    "            print('create missing indicator for {}'.format(col))\n",
    "            df['{}_ismissing'.format(col)] = missing\n",
    "            \n",
    "# next plot the histogram of missing values based on the indicator\n",
    "ismissing_cols = [col for col in df.columns if 'ismissing' in col]\n",
    "df['num_missing'] = df[ismissing_cols].sum(axis=1)\n",
    "\n",
    "df['num_missing'].value_counts().reset_index().sort_values(by='index').plot.bar(x='index', y='num_missing')"
   ]
  },
  {
   "cell_type": "markdown",
   "metadata": {},
   "source": [
    "## Missing Data Solutions"
   ]
  },
  {
   "cell_type": "markdown",
   "metadata": {},
   "source": [
    "Once you have identified the features or columns with a large portion of observations with missing values, you will need to determine if it is worth retaining the feature or eliminating it.  This may be done based on statistical analysis or with simple-but reliable-common sense or domain knowledge.  \n",
    "\n",
    "If you determine a feature is worth retaining, then you will decide whether of not to drop the observations or impute missing values."
   ]
  },
  {
   "cell_type": "markdown",
   "metadata": {},
   "source": [
    "### Drop the observations with missing values"
   ]
  },
  {
   "cell_type": "markdown",
   "metadata": {},
   "source": [
    "Based on a threshold you select, the rows will be removed from the dataset"
   ]
  },
  {
   "cell_type": "code",
   "execution_count": 34,
   "metadata": {},
   "outputs": [
    {
     "name": "stdout",
     "output_type": "stream",
     "text": [
      "    id   timestamp  full_sq  life_sq  floor  max_floor  material  build_year  \\\n",
      "50  51  2011-10-03       51     33.0    1.0       12.0       1.0      1979.0   \n",
      "\n",
      "    num_room  kitch_sq  ...  prom_part_5000_ismissing  \\\n",
      "50       2.0       6.0  ...                     False   \n",
      "\n",
      "   cafe_sum_5000_min_price_avg_ismissing  \\\n",
      "50                                 False   \n",
      "\n",
      "   cafe_sum_5000_max_price_avg_ismissing  cafe_avg_price_5000_ismissing  \\\n",
      "50                                 False                          False   \n",
      "\n",
      "    num_missing  sub_area_lower  timestamp_dt  year  month  weekday  \n",
      "50            6        caricyno    2011-10-03  2011     10       10  \n",
      "\n",
      "[1 rows x 349 columns]\n"
     ]
    }
   ],
   "source": [
    "ind_missing = df[df['num_missing'] > 35].index\n",
    "df_less_missing_rows = df.drop(ind_missing, axis=0)\n",
    "\n",
    "# view an example of an observation that is left in the dataset\n",
    "print(pd.DataFrame(df_less_missing_rows, index=[50]))"
   ]
  },
  {
   "cell_type": "markdown",
   "metadata": {},
   "source": [
    "### Drop the feature or column"
   ]
  },
  {
   "cell_type": "markdown",
   "metadata": {},
   "source": [
    "It is important to make supported decisions about which columns to drop.  In other words, being sure that they variable does not have a material impact on the ultimate analysis.  If a variable or feature is relevant, there are ways to impute the values (to be described later)."
   ]
  },
  {
   "cell_type": "code",
   "execution_count": 35,
   "metadata": {},
   "outputs": [],
   "source": [
    "# Assuming a larger percentage of missing data in an insignificant variable; you have identified specific columns\n",
    "# Name the column\n",
    "cols_to_drop = ['hospital_beds_raion']\n",
    "df_less_hos_beds_raion = df.drop(cols_to_drop, axis = 1)"
   ]
  },
  {
   "cell_type": "markdown",
   "metadata": {},
   "source": [
    "### Impute missing values"
   ]
  },
  {
   "cell_type": "markdown",
   "metadata": {},
   "source": [
    "There are many statistical methods to impute missing values.  For example, if the feature is numerical you may use the average or median.  If it is a categorical variable, you might use the mode or most frequent value."
   ]
  },
  {
   "cell_type": "markdown",
   "metadata": {},
   "source": [
    "#### Median value for a specific column"
   ]
  },
  {
   "cell_type": "code",
   "execution_count": 36,
   "metadata": {},
   "outputs": [
    {
     "name": "stdout",
     "output_type": "stream",
     "text": [
      "30.0\n",
      "0        27.0\n",
      "1        19.0\n",
      "2        29.0\n",
      "3        50.0\n",
      "4        77.0\n",
      "         ... \n",
      "30466    27.0\n",
      "30467    59.0\n",
      "30468    30.0\n",
      "30469    32.0\n",
      "30470    28.0\n",
      "Name: life_sq, Length: 30471, dtype: float64\n"
     ]
    }
   ],
   "source": [
    "# Replace the missing values with the median for a named column/variable\n",
    "med = df['life_sq'].median()\n",
    "print(med)\n",
    "\n",
    "df['life_sq'] = df['life_sq'].fillna(med)\n",
    "print(df['life_sq'])    # you can see which observations have the imputed value (assuming it was not coincidentally equal to the media already)"
   ]
  },
  {
   "cell_type": "markdown",
   "metadata": {},
   "source": [
    "#### Median value for all columns"
   ]
  },
  {
   "cell_type": "code",
   "execution_count": 12,
   "metadata": {},
   "outputs": [
    {
     "name": "stdout",
     "output_type": "stream",
     "text": [
      "imputing missing value for: floor\n",
      "imputing missing value for: max_floor\n",
      "imputing missing value for: material\n",
      "imputing missing value for: build_year\n",
      "imputing missing value for: num_room\n",
      "imputing missing value for: kitch_sq\n",
      "imputing missing value for: state\n",
      "imputing missing value for: preschool_quota\n",
      "imputing missing value for: school_quota\n",
      "imputing missing value for: hospital_beds_raion\n",
      "imputing missing value for: raion_build_count_with_material_info\n",
      "imputing missing value for: build_count_block\n",
      "imputing missing value for: build_count_wood\n",
      "imputing missing value for: build_count_frame\n",
      "imputing missing value for: build_count_brick\n",
      "imputing missing value for: build_count_monolith\n",
      "imputing missing value for: build_count_panel\n",
      "imputing missing value for: build_count_foam\n",
      "imputing missing value for: build_count_slag\n",
      "imputing missing value for: build_count_mix\n",
      "imputing missing value for: raion_build_count_with_builddate_info\n",
      "imputing missing value for: build_count_before_1920\n",
      "imputing missing value for: build_count_1921-1945\n",
      "imputing missing value for: build_count_1946-1970\n",
      "imputing missing value for: build_count_1971-1995\n",
      "imputing missing value for: build_count_after_1995\n",
      "imputing missing value for: metro_min_walk\n",
      "imputing missing value for: metro_km_walk\n",
      "imputing missing value for: railroad_station_walk_km\n",
      "imputing missing value for: railroad_station_walk_min\n",
      "imputing missing value for: ID_railroad_station_walk\n",
      "imputing missing value for: cafe_sum_500_min_price_avg\n",
      "imputing missing value for: cafe_sum_500_max_price_avg\n",
      "imputing missing value for: cafe_avg_price_500\n",
      "imputing missing value for: cafe_sum_1000_min_price_avg\n",
      "imputing missing value for: cafe_sum_1000_max_price_avg\n",
      "imputing missing value for: cafe_avg_price_1000\n",
      "imputing missing value for: cafe_sum_1500_min_price_avg\n",
      "imputing missing value for: cafe_sum_1500_max_price_avg\n",
      "imputing missing value for: cafe_avg_price_1500\n",
      "imputing missing value for: cafe_sum_2000_min_price_avg\n",
      "imputing missing value for: cafe_sum_2000_max_price_avg\n",
      "imputing missing value for: cafe_avg_price_2000\n",
      "imputing missing value for: cafe_sum_3000_min_price_avg\n",
      "imputing missing value for: cafe_sum_3000_max_price_avg\n",
      "imputing missing value for: cafe_avg_price_3000\n",
      "imputing missing value for: prom_part_5000\n",
      "imputing missing value for: cafe_sum_5000_min_price_avg\n",
      "imputing missing value for: cafe_sum_5000_max_price_avg\n",
      "imputing missing value for: cafe_avg_price_5000\n"
     ]
    }
   ],
   "source": [
    "# Replace the missing values with the median for all numeric columns\n",
    "df_numeric = df.select_dtypes(include=[np.number])\n",
    "numeric_cols = df_numeric.columns.values\n",
    "\n",
    "for col in numeric_cols:\n",
    "    missing = df[col].isnull()\n",
    "    num_missing = np.sum(missing)\n",
    "    \n",
    "    if num_missing > 0:  # limit to columns with missing values\n",
    "        print('imputing missing value for: {}'.format(col))\n",
    "        df['{}_ismissing'.format(col)] = missing\n",
    "        med = df[col].median()\n",
    "        df[col] = df[col].fillna(med)"
   ]
  },
  {
   "cell_type": "markdown",
   "metadata": {},
   "source": [
    "#### Categorical variables"
   ]
  },
  {
   "cell_type": "code",
   "execution_count": 37,
   "metadata": {},
   "outputs": [],
   "source": [
    "# Impute missing values for categorical variables\n",
    "df_non_numeric = df.select_dtypes(exclude=[np.number])\n",
    "non_numeric_cols = df_non_numeric.columns.values\n",
    "\n",
    "for col in non_numeric_cols:\n",
    "    missing = df[col].isnull()\n",
    "    num_missing = np.sum(missing)\n",
    "    \n",
    "    if num_missing > 0: \n",
    "        print('imputing valuess for : {}'.format(col))\n",
    "        df['{}_ismissing'.format(col)] = missing\n",
    "        \n",
    "        top = df[col].describe()['top']    # most frequent value\n",
    "        df[col] = df[col].fillna(top)"
   ]
  },
  {
   "cell_type": "markdown",
   "metadata": {},
   "source": [
    "### Replace the missing values"
   ]
  },
  {
   "cell_type": "markdown",
   "metadata": {},
   "source": [
    "- For categorical features use a non-numeric value that will not be confused with an actual category\n",
    "- For numeric features use distinct number that will not be confused with an actual value\n",
    "- Analysis will be able to exclude observations with the given value"
   ]
  },
  {
   "cell_type": "code",
   "execution_count": 38,
   "metadata": {},
   "outputs": [],
   "source": [
    "# Categorical\n",
    "df['sub_area'] = df['sub_area'].fillna('_MISSING_')\n",
    "\n",
    "# Numeric\n",
    "df['life_sq'] = df['life_sq'].fillna(-999)"
   ]
  },
  {
   "cell_type": "markdown",
   "metadata": {},
   "source": [
    "# Irregular Data or Outliers"
   ]
  },
  {
   "cell_type": "markdown",
   "metadata": {},
   "source": [
    "Outliers are values that are outside a \"reasonable\" range for that feature.  We want to remove them because they will skew analysis unnecessarily"
   ]
  },
  {
   "cell_type": "markdown",
   "metadata": {},
   "source": [
    "## Histogram or Box Plot"
   ]
  },
  {
   "cell_type": "markdown",
   "metadata": {},
   "source": [
    "Applicable for numerical features"
   ]
  },
  {
   "cell_type": "code",
   "execution_count": 15,
   "metadata": {},
   "outputs": [
    {
     "data": {
      "text/plain": [
       "<matplotlib.axes._subplots.AxesSubplot at 0x1a21bf16d0>"
      ]
     },
     "execution_count": 15,
     "metadata": {},
     "output_type": "execute_result"
    },
    {
     "data": {
      "image/png": "[encoded data removed]",
      "text/plain": [
       "<Figure size 432x288 with 1 Axes>"
      ]
     },
     "metadata": {
      "needs_background": "light"
     },
     "output_type": "display_data"
    }
   ],
   "source": [
    "df['life_sq'].hist(bins=100)"
   ]
  },
  {
   "cell_type": "markdown",
   "metadata": {},
   "source": [
    "The histogram shows that the feature is skewed with values close to 0 with a low percentage of irregular observations. This approach will not effectively tell us what the outlier values are, therefore, we will try to the box plot."
   ]
  },
  {
   "cell_type": "code",
   "execution_count": 16,
   "metadata": {},
   "outputs": [
    {
     "data": {
      "text/plain": [
       "<matplotlib.axes._subplots.AxesSubplot at 0x1107bed90>"
      ]
     },
     "execution_count": 16,
     "metadata": {},
     "output_type": "execute_result"
    },
    {
     "data": {
      "image/png": "[encoded data removed]",
      "text/plain": [
       "<Figure size 432x288 with 1 Axes>"
      ]
     },
     "metadata": {
      "needs_background": "light"
     },
     "output_type": "display_data"
    }
   ],
   "source": [
    "df.boxplot(column=['life_sq'])"
   ]
  },
  {
   "cell_type": "markdown",
   "metadata": {},
   "source": [
    "## Descriptive Statistics"
   ]
  },
  {
   "cell_type": "markdown",
   "metadata": {},
   "source": [
    "This should usually be our first stop in exploratory data analysis.  The objective is to understand the statisitical nature of the dataset.  The approach here is to look at one column at a time.  "
   ]
  },
  {
   "cell_type": "code",
   "execution_count": 17,
   "metadata": {},
   "outputs": [
    {
     "data": {
      "text/plain": [
       "count    30471.000000\n",
       "mean        33.480883\n",
       "std         46.522251\n",
       "min          0.000000\n",
       "25%         22.000000\n",
       "50%         30.000000\n",
       "75%         38.000000\n",
       "max       7478.000000\n",
       "Name: life_sq, dtype: float64"
      ]
     },
     "execution_count": 17,
     "metadata": {},
     "output_type": "execute_result"
    }
   ],
   "source": [
    "df['life_sq'].describe()"
   ]
  },
  {
   "cell_type": "markdown",
   "metadata": {},
   "source": [
    "## Bar Chart"
   ]
  },
  {
   "cell_type": "code",
   "execution_count": 18,
   "metadata": {},
   "outputs": [
    {
     "data": {
      "text/plain": [
       "<matplotlib.axes._subplots.AxesSubplot at 0x1a22676690>"
      ]
     },
     "execution_count": 18,
     "metadata": {},
     "output_type": "execute_result"
    },
    {
     "data": {
      "image/png": "[encoded data removed]",
      "text/plain": [
       "<Figure size 432x288 with 1 Axes>"
      ]
     },
     "metadata": {
      "needs_background": "light"
     },
     "output_type": "display_data"
    }
   ],
   "source": [
    "df['ecology'].value_counts().plot.bar()"
   ]
  },
  {
   "cell_type": "markdown",
   "metadata": {},
   "source": [
    "# Unnecessary Data"
   ]
  },
  {
   "cell_type": "markdown",
   "metadata": {},
   "source": [
    "A dataset may have an expansive set of variables.  However, not all of them will be useful or enhance the analysis or model.  There are three primary types to look for:\n",
    "\n",
    "- Uninformative or repetitive\n",
    "- Irrelevant\n",
    "- Duplicates"
   ]
  },
  {
   "cell_type": "markdown",
   "metadata": {},
   "source": [
    "##  Uninformative or Repetitive"
   ]
  },
  {
   "cell_type": "markdown",
   "metadata": {},
   "source": [
    "The result will be either the distribution of counts if discrete or categorical type or the count of observations with data versus not."
   ]
  },
  {
   "cell_type": "code",
   "execution_count": 19,
   "metadata": {},
   "outputs": [
    {
     "name": "stdout",
     "output_type": "stream",
     "text": [
      "oil_chemistry_raion: 99.02858%\n",
      "no     30175\n",
      "yes      296\n",
      "Name: oil_chemistry_raion, dtype: int64\n",
      "\n",
      "railroad_terminal_raion: 96.27187%\n",
      "no     29335\n",
      "yes     1136\n",
      "Name: railroad_terminal_raion, dtype: int64\n",
      "\n",
      "nuclear_reactor_raion: 97.16780%\n",
      "no     29608\n",
      "yes      863\n",
      "Name: nuclear_reactor_raion, dtype: int64\n",
      "\n",
      "build_count_foam: 95.35624%\n",
      "0.0     29056\n",
      "1.0       969\n",
      "11.0      262\n",
      "2.0       184\n",
      "Name: build_count_foam, dtype: int64\n",
      "\n",
      "big_road1_1line: 97.43691%\n",
      "no     29690\n",
      "yes      781\n",
      "Name: big_road1_1line, dtype: int64\n",
      "\n",
      "railroad_1line: 97.06934%\n",
      "no     29578\n",
      "yes      893\n",
      "Name: railroad_1line, dtype: int64\n",
      "\n",
      "cafe_count_500_price_high: 97.25641%\n",
      "0    29635\n",
      "1      787\n",
      "2       38\n",
      "3       11\n",
      "Name: cafe_count_500_price_high, dtype: int64\n",
      "\n",
      "mosque_count_500: 99.51101%\n",
      "0    30322\n",
      "1      149\n",
      "Name: mosque_count_500, dtype: int64\n",
      "\n",
      "cafe_count_1000_price_high: 95.52689%\n",
      "0    29108\n",
      "1     1104\n",
      "2      145\n",
      "3       51\n",
      "4       39\n",
      "5       15\n",
      "6        8\n",
      "7        1\n",
      "Name: cafe_count_1000_price_high, dtype: int64\n",
      "\n",
      "mosque_count_1000: 98.08342%\n",
      "0    29887\n",
      "1      584\n",
      "Name: mosque_count_1000, dtype: int64\n",
      "\n",
      "mosque_count_1500: 96.21936%\n",
      "0    29319\n",
      "1     1152\n",
      "Name: mosque_count_1500, dtype: int64\n",
      "\n",
      "floor_ismissing: 99.45194%\n",
      "False    30304\n",
      "True       167\n",
      "Name: floor_ismissing, dtype: int64\n",
      "\n",
      "metro_min_walk_ismissing: 99.91795%\n",
      "False    30446\n",
      "True        25\n",
      "Name: metro_min_walk_ismissing, dtype: int64\n",
      "\n",
      "metro_km_walk_ismissing: 99.91795%\n",
      "False    30446\n",
      "True        25\n",
      "Name: metro_km_walk_ismissing, dtype: int64\n",
      "\n",
      "railroad_station_walk_km_ismissing: 99.91795%\n",
      "False    30446\n",
      "True        25\n",
      "Name: railroad_station_walk_km_ismissing, dtype: int64\n",
      "\n",
      "railroad_station_walk_min_ismissing: 99.91795%\n",
      "False    30446\n",
      "True        25\n",
      "Name: railroad_station_walk_min_ismissing, dtype: int64\n",
      "\n",
      "ID_railroad_station_walk_ismissing: 99.91795%\n",
      "False    30446\n",
      "True        25\n",
      "Name: ID_railroad_station_walk_ismissing, dtype: int64\n",
      "\n",
      "cafe_sum_3000_min_price_avg_ismissing: 96.74773%\n",
      "False    29480\n",
      "True       991\n",
      "Name: cafe_sum_3000_min_price_avg_ismissing, dtype: int64\n",
      "\n",
      "cafe_sum_3000_max_price_avg_ismissing: 96.74773%\n",
      "False    29480\n",
      "True       991\n",
      "Name: cafe_sum_3000_max_price_avg_ismissing, dtype: int64\n",
      "\n",
      "cafe_avg_price_3000_ismissing: 96.74773%\n",
      "False    29480\n",
      "True       991\n",
      "Name: cafe_avg_price_3000_ismissing, dtype: int64\n",
      "\n",
      "prom_part_5000_ismissing: 99.41584%\n",
      "False    30293\n",
      "True       178\n",
      "Name: prom_part_5000_ismissing, dtype: int64\n",
      "\n",
      "cafe_sum_5000_min_price_avg_ismissing: 99.02530%\n",
      "False    30174\n",
      "True       297\n",
      "Name: cafe_sum_5000_min_price_avg_ismissing, dtype: int64\n",
      "\n",
      "cafe_sum_5000_max_price_avg_ismissing: 99.02530%\n",
      "False    30174\n",
      "True       297\n",
      "Name: cafe_sum_5000_max_price_avg_ismissing, dtype: int64\n",
      "\n",
      "cafe_avg_price_5000_ismissing: 99.02530%\n",
      "False    30174\n",
      "True       297\n",
      "Name: cafe_avg_price_5000_ismissing, dtype: int64\n",
      "\n"
     ]
    }
   ],
   "source": [
    "num_rows = len(df.index)\n",
    "low_information_cols = []\n",
    "\n",
    "for col in df.columns:\n",
    "    cnts = df[col].value_counts(dropna=False)\n",
    "    top_pct = (cnts/num_rows).iloc[0]\n",
    "    \n",
    "    if top_pct > 0.95:\n",
    "        low_information_cols.append(col)\n",
    "        print('{0}: {1:.5f}%'.format(col, top_pct*100))\n",
    "        print(cnts)\n",
    "        print()"
   ]
  },
  {
   "cell_type": "markdown",
   "metadata": {},
   "source": [
    "## Irrelevant"
   ]
  },
  {
   "cell_type": "markdown",
   "metadata": {},
   "source": [
    "This is a logical, common sense decision that does not necessarily need any statistical analysis, simply domain knowledge"
   ]
  },
  {
   "cell_type": "markdown",
   "metadata": {},
   "source": [
    "## Duplicates"
   ]
  },
  {
   "cell_type": "markdown",
   "metadata": {},
   "source": [
    "There are typically two variations of this:\n",
    "- All feature based\n",
    "- Key feature based"
   ]
  },
  {
   "cell_type": "markdown",
   "metadata": {},
   "source": [
    "### All Features"
   ]
  },
  {
   "cell_type": "code",
   "execution_count": 20,
   "metadata": {},
   "outputs": [
    {
     "name": "stdout",
     "output_type": "stream",
     "text": [
      "(30471, 344)\n",
      "(30461, 343)\n"
     ]
    }
   ],
   "source": [
    "# write an explanation\n",
    "\n",
    "df_dedupped = df.drop('id', axis=1).drop_duplicates()\n",
    "\n",
    "print(df.shape)\n",
    "print(df_dedupped.shape)"
   ]
  },
  {
   "cell_type": "markdown",
   "metadata": {},
   "source": [
    "### Key Features"
   ]
  },
  {
   "cell_type": "markdown",
   "metadata": {},
   "source": [
    "Refers to separate observations (i.e. transactions), but we know are duplicates based on the variables that are identifiers."
   ]
  },
  {
   "cell_type": "code",
   "execution_count": 21,
   "metadata": {},
   "outputs": [
    {
     "data": {
      "text/plain": [
       "timestamp   full_sq  floor  build_year  num_room  price_doc\n",
       "2014-11-28  34       7.0    2015.0      1.0       3613360      2\n",
       "2014-03-24  40       11.0   1979.0      1.0       3888520      2\n",
       "2015-03-14  62       2.0    1979.0      2.0       6520500      2\n",
       "2013-05-22  68       2.0    1979.0      2.0       5406690      2\n",
       "2013-12-05  40       5.0    1979.0      1.0       4414080      2\n",
       "2014-04-10  63       12.0   1979.0      2.0       5410484      2\n",
       "2013-04-03  42       2.0    1979.0      2.0       3444000      2\n",
       "2013-07-10  55       3.0    1979.0      2.0       3196725      2\n",
       "2014-11-25  39       7.0    0.0         1.0       4634301      2\n",
       "2014-04-24  40       16.0   1979.0      1.0       4400000      2\n",
       "2014-04-15  134      1.0    0.0         3.0       5798496      2\n",
       "2013-12-18  39       6.0    1979.0      1.0       3700946      2\n",
       "2012-08-27  59       6.0    1979.0      2.0       4506800      2\n",
       "2013-09-23  85       14.0   1979.0      3.0       7725974      2\n",
       "2013-06-24  40       12.0   1979.0      2.0       4112800      2\n",
       "2015-03-30  41       11.0   2016.0      1.0       4114580      2\n",
       "2012-10-22  61       18.0   1979.0      2.0       8248500      2\n",
       "2014-03-26  63       16.0   1979.0      2.0       6710953      2\n",
       "2014-12-09  40       17.0   1979.0      1.0       4607265      2\n",
       "2014-12-17  62       9.0    1979.0      2.0       6552000      2\n",
       "2014-01-22  46       1.0    1968.0      2.0       3000000      2\n",
       "2012-09-05  43       21.0   1979.0      2.0       6229540      2\n",
       "2013-08-30  40       12.0   1979.0      1.0       4462000      2\n",
       "2013-08-29  56       2.0    1961.0      3.0       8380000      1\n",
       "            52       9.0    2006.0      2.0       10000000     1\n",
       "                            1979.0      2.0       5619060      1\n",
       "            61       3.0    1979.0      2.0       9809910      1\n",
       "            58       13.0   2013.0      2.0       5764128      1\n",
       "            60       11.0   0.0         2.0       6518400      1\n",
       "            61       7.0    1979.0      2.0       5764128      1\n",
       "            62       6.0    1979.0      3.0       8900000      1\n",
       "            64       2.0    2015.0      2.0       5347269      1\n",
       "            69       4.0    1969.0      3.0       8950000      1\n",
       "            75       3.0    1979.0      2.0       7682400      1\n",
       "            78       12.0   1975.0      3.0       12950000     1\n",
       "            81       7.0    2008.0      1.0       12153189     1\n",
       "2013-08-30  32       3.0    1965.0      1.0       4010000      1\n",
       "            35       3.0    1974.0      1.0       4550000      1\n",
       "            37       2.0    2008.0      1.0       1000000      1\n",
       "2013-08-29  50       2.0    1972.0      2.0       8150000      1\n",
       "Name: id, dtype: int64"
      ]
     },
     "execution_count": 21,
     "metadata": {},
     "output_type": "execute_result"
    }
   ],
   "source": [
    "key = ['timestamp', 'full_sq', 'floor', 'build_year', 'num_room', 'price_doc']\n",
    "df.fillna(-999).groupby(key)['id'].count().sort_values(ascending=False).head(40)"
   ]
  },
  {
   "cell_type": "code",
   "execution_count": 22,
   "metadata": {},
   "outputs": [
    {
     "name": "stdout",
     "output_type": "stream",
     "text": [
      "(30471, 344)\n",
      "(30448, 344)\n"
     ]
    }
   ],
   "source": [
    "# drop duplicates based on a subset of variables\n",
    "\n",
    "key = ['timestamp', 'full_sq', 'floor', 'build_year', 'num_room', 'price_doc']\n",
    "df_dedupped2 = df.drop_duplicates(subset=key)\n",
    "\n",
    "print(df.shape)\n",
    "print(df_dedupped2.shape)"
   ]
  },
  {
   "cell_type": "markdown",
   "metadata": {},
   "source": [
    "## Inconsistent Data"
   ]
  },
  {
   "cell_type": "markdown",
   "metadata": {},
   "source": [
    "### Capitalization"
   ]
  },
  {
   "cell_type": "code",
   "execution_count": 23,
   "metadata": {},
   "outputs": [
    {
     "data": {
      "text/plain": [
       "Poselenie Sosenskoe               1776\n",
       "Nekrasovka                        1611\n",
       "Poselenie Vnukovskoe              1372\n",
       "Poselenie Moskovskij               925\n",
       "Poselenie Voskresenskoe            713\n",
       "                                  ... \n",
       "Molzhaninovskoe                      3\n",
       "Poselenie Shhapovskoe                2\n",
       "Poselenie Kievskij                   2\n",
       "Poselenie Klenovskoe                 1\n",
       "Poselenie Mihajlovo-Jarcevskoe       1\n",
       "Name: sub_area, Length: 146, dtype: int64"
      ]
     },
     "execution_count": 23,
     "metadata": {},
     "output_type": "execute_result"
    }
   ],
   "source": [
    "# Evaluate the count of each distinct value in a column to look for inconsistencies\n",
    "df['sub_area'].value_counts(dropna=False)"
   ]
  },
  {
   "cell_type": "code",
   "execution_count": 24,
   "metadata": {},
   "outputs": [
    {
     "data": {
      "text/plain": [
       "poselenie sosenskoe               1776\n",
       "nekrasovka                        1611\n",
       "poselenie vnukovskoe              1372\n",
       "poselenie moskovskij               925\n",
       "poselenie voskresenskoe            713\n",
       "                                  ... \n",
       "molzhaninovskoe                      3\n",
       "poselenie shhapovskoe                2\n",
       "poselenie kievskij                   2\n",
       "poselenie klenovskoe                 1\n",
       "poselenie mihajlovo-jarcevskoe       1\n",
       "Name: sub_area_lower, Length: 146, dtype: int64"
      ]
     },
     "execution_count": 24,
     "metadata": {},
     "output_type": "execute_result"
    }
   ],
   "source": [
    "# Put the values in all caps or lower case\n",
    "df['sub_area_lower'] = df['sub_area'].str.lower()\n",
    "df['sub_area_lower'].value_counts(dropna=False)"
   ]
  },
  {
   "cell_type": "markdown",
   "metadata": {},
   "source": [
    "### Formating"
   ]
  },
  {
   "cell_type": "markdown",
   "metadata": {},
   "source": [
    "This example focuses on the \"timestamp\" variable"
   ]
  },
  {
   "cell_type": "code",
   "execution_count": 25,
   "metadata": {},
   "outputs": [
    {
     "data": {
      "text/html": [
       "<div>\n",
       "<style scoped>\n",
       "    .dataframe tbody tr th:only-of-type {\n",
       "        vertical-align: middle;\n",
       "    }\n",
       "\n",
       "    .dataframe tbody tr th {\n",
       "        vertical-align: top;\n",
       "    }\n",
       "\n",
       "    .dataframe thead th {\n",
       "        text-align: right;\n",
       "    }\n",
       "</style>\n",
       "<table border=\"1\" class=\"dataframe\">\n",
       "  <thead>\n",
       "    <tr style=\"text-align: right;\">\n",
       "      <th></th>\n",
       "      <th>id</th>\n",
       "      <th>timestamp</th>\n",
       "      <th>full_sq</th>\n",
       "      <th>life_sq</th>\n",
       "      <th>floor</th>\n",
       "      <th>max_floor</th>\n",
       "      <th>material</th>\n",
       "      <th>build_year</th>\n",
       "      <th>num_room</th>\n",
       "      <th>kitch_sq</th>\n",
       "      <th>...</th>\n",
       "      <th>cafe_avg_price_2000_ismissing</th>\n",
       "      <th>cafe_sum_3000_min_price_avg_ismissing</th>\n",
       "      <th>cafe_sum_3000_max_price_avg_ismissing</th>\n",
       "      <th>cafe_avg_price_3000_ismissing</th>\n",
       "      <th>prom_part_5000_ismissing</th>\n",
       "      <th>cafe_sum_5000_min_price_avg_ismissing</th>\n",
       "      <th>cafe_sum_5000_max_price_avg_ismissing</th>\n",
       "      <th>cafe_avg_price_5000_ismissing</th>\n",
       "      <th>num_missing</th>\n",
       "      <th>sub_area_lower</th>\n",
       "    </tr>\n",
       "  </thead>\n",
       "  <tbody>\n",
       "    <tr>\n",
       "      <td>0</td>\n",
       "      <td>1</td>\n",
       "      <td>2011-08-20</td>\n",
       "      <td>43</td>\n",
       "      <td>27.0</td>\n",
       "      <td>4.0</td>\n",
       "      <td>12.0</td>\n",
       "      <td>1.0</td>\n",
       "      <td>1979.0</td>\n",
       "      <td>2.0</td>\n",
       "      <td>6.0</td>\n",
       "      <td>...</td>\n",
       "      <td>False</td>\n",
       "      <td>False</td>\n",
       "      <td>False</td>\n",
       "      <td>False</td>\n",
       "      <td>False</td>\n",
       "      <td>False</td>\n",
       "      <td>False</td>\n",
       "      <td>False</td>\n",
       "      <td>9</td>\n",
       "      <td>bibirevo</td>\n",
       "    </tr>\n",
       "    <tr>\n",
       "      <td>1</td>\n",
       "      <td>2</td>\n",
       "      <td>2011-08-23</td>\n",
       "      <td>34</td>\n",
       "      <td>19.0</td>\n",
       "      <td>3.0</td>\n",
       "      <td>12.0</td>\n",
       "      <td>1.0</td>\n",
       "      <td>1979.0</td>\n",
       "      <td>2.0</td>\n",
       "      <td>6.0</td>\n",
       "      <td>...</td>\n",
       "      <td>False</td>\n",
       "      <td>False</td>\n",
       "      <td>False</td>\n",
       "      <td>False</td>\n",
       "      <td>False</td>\n",
       "      <td>False</td>\n",
       "      <td>False</td>\n",
       "      <td>False</td>\n",
       "      <td>6</td>\n",
       "      <td>nagatinskij zaton</td>\n",
       "    </tr>\n",
       "    <tr>\n",
       "      <td>2</td>\n",
       "      <td>3</td>\n",
       "      <td>2011-08-27</td>\n",
       "      <td>43</td>\n",
       "      <td>29.0</td>\n",
       "      <td>2.0</td>\n",
       "      <td>12.0</td>\n",
       "      <td>1.0</td>\n",
       "      <td>1979.0</td>\n",
       "      <td>2.0</td>\n",
       "      <td>6.0</td>\n",
       "      <td>...</td>\n",
       "      <td>False</td>\n",
       "      <td>False</td>\n",
       "      <td>False</td>\n",
       "      <td>False</td>\n",
       "      <td>False</td>\n",
       "      <td>False</td>\n",
       "      <td>False</td>\n",
       "      <td>False</td>\n",
       "      <td>6</td>\n",
       "      <td>tekstil'shhiki</td>\n",
       "    </tr>\n",
       "    <tr>\n",
       "      <td>3</td>\n",
       "      <td>4</td>\n",
       "      <td>2011-09-01</td>\n",
       "      <td>89</td>\n",
       "      <td>50.0</td>\n",
       "      <td>9.0</td>\n",
       "      <td>12.0</td>\n",
       "      <td>1.0</td>\n",
       "      <td>1979.0</td>\n",
       "      <td>2.0</td>\n",
       "      <td>6.0</td>\n",
       "      <td>...</td>\n",
       "      <td>False</td>\n",
       "      <td>False</td>\n",
       "      <td>False</td>\n",
       "      <td>False</td>\n",
       "      <td>False</td>\n",
       "      <td>False</td>\n",
       "      <td>False</td>\n",
       "      <td>False</td>\n",
       "      <td>7</td>\n",
       "      <td>mitino</td>\n",
       "    </tr>\n",
       "    <tr>\n",
       "      <td>4</td>\n",
       "      <td>5</td>\n",
       "      <td>2011-09-05</td>\n",
       "      <td>77</td>\n",
       "      <td>77.0</td>\n",
       "      <td>4.0</td>\n",
       "      <td>12.0</td>\n",
       "      <td>1.0</td>\n",
       "      <td>1979.0</td>\n",
       "      <td>2.0</td>\n",
       "      <td>6.0</td>\n",
       "      <td>...</td>\n",
       "      <td>False</td>\n",
       "      <td>False</td>\n",
       "      <td>False</td>\n",
       "      <td>False</td>\n",
       "      <td>False</td>\n",
       "      <td>False</td>\n",
       "      <td>False</td>\n",
       "      <td>False</td>\n",
       "      <td>6</td>\n",
       "      <td>basmannoe</td>\n",
       "    </tr>\n",
       "    <tr>\n",
       "      <td>...</td>\n",
       "      <td>...</td>\n",
       "      <td>...</td>\n",
       "      <td>...</td>\n",
       "      <td>...</td>\n",
       "      <td>...</td>\n",
       "      <td>...</td>\n",
       "      <td>...</td>\n",
       "      <td>...</td>\n",
       "      <td>...</td>\n",
       "      <td>...</td>\n",
       "      <td>...</td>\n",
       "      <td>...</td>\n",
       "      <td>...</td>\n",
       "      <td>...</td>\n",
       "      <td>...</td>\n",
       "      <td>...</td>\n",
       "      <td>...</td>\n",
       "      <td>...</td>\n",
       "      <td>...</td>\n",
       "      <td>...</td>\n",
       "      <td>...</td>\n",
       "    </tr>\n",
       "    <tr>\n",
       "      <td>30466</td>\n",
       "      <td>30469</td>\n",
       "      <td>2015-06-30</td>\n",
       "      <td>44</td>\n",
       "      <td>27.0</td>\n",
       "      <td>7.0</td>\n",
       "      <td>9.0</td>\n",
       "      <td>1.0</td>\n",
       "      <td>1975.0</td>\n",
       "      <td>2.0</td>\n",
       "      <td>6.0</td>\n",
       "      <td>...</td>\n",
       "      <td>False</td>\n",
       "      <td>False</td>\n",
       "      <td>False</td>\n",
       "      <td>False</td>\n",
       "      <td>False</td>\n",
       "      <td>False</td>\n",
       "      <td>False</td>\n",
       "      <td>False</td>\n",
       "      <td>1</td>\n",
       "      <td>otradnoe</td>\n",
       "    </tr>\n",
       "    <tr>\n",
       "      <td>30467</td>\n",
       "      <td>30470</td>\n",
       "      <td>2015-06-30</td>\n",
       "      <td>86</td>\n",
       "      <td>59.0</td>\n",
       "      <td>3.0</td>\n",
       "      <td>9.0</td>\n",
       "      <td>2.0</td>\n",
       "      <td>1935.0</td>\n",
       "      <td>4.0</td>\n",
       "      <td>10.0</td>\n",
       "      <td>...</td>\n",
       "      <td>False</td>\n",
       "      <td>False</td>\n",
       "      <td>False</td>\n",
       "      <td>False</td>\n",
       "      <td>False</td>\n",
       "      <td>False</td>\n",
       "      <td>False</td>\n",
       "      <td>False</td>\n",
       "      <td>0</td>\n",
       "      <td>tverskoe</td>\n",
       "    </tr>\n",
       "    <tr>\n",
       "      <td>30468</td>\n",
       "      <td>30471</td>\n",
       "      <td>2015-06-30</td>\n",
       "      <td>45</td>\n",
       "      <td>30.0</td>\n",
       "      <td>10.0</td>\n",
       "      <td>20.0</td>\n",
       "      <td>1.0</td>\n",
       "      <td>1979.0</td>\n",
       "      <td>1.0</td>\n",
       "      <td>1.0</td>\n",
       "      <td>...</td>\n",
       "      <td>False</td>\n",
       "      <td>False</td>\n",
       "      <td>False</td>\n",
       "      <td>False</td>\n",
       "      <td>False</td>\n",
       "      <td>False</td>\n",
       "      <td>False</td>\n",
       "      <td>False</td>\n",
       "      <td>21</td>\n",
       "      <td>poselenie vnukovskoe</td>\n",
       "    </tr>\n",
       "    <tr>\n",
       "      <td>30469</td>\n",
       "      <td>30472</td>\n",
       "      <td>2015-06-30</td>\n",
       "      <td>64</td>\n",
       "      <td>32.0</td>\n",
       "      <td>5.0</td>\n",
       "      <td>15.0</td>\n",
       "      <td>1.0</td>\n",
       "      <td>2003.0</td>\n",
       "      <td>2.0</td>\n",
       "      <td>11.0</td>\n",
       "      <td>...</td>\n",
       "      <td>False</td>\n",
       "      <td>False</td>\n",
       "      <td>False</td>\n",
       "      <td>False</td>\n",
       "      <td>False</td>\n",
       "      <td>False</td>\n",
       "      <td>False</td>\n",
       "      <td>False</td>\n",
       "      <td>0</td>\n",
       "      <td>obruchevskoe</td>\n",
       "    </tr>\n",
       "    <tr>\n",
       "      <td>30470</td>\n",
       "      <td>30473</td>\n",
       "      <td>2015-06-30</td>\n",
       "      <td>43</td>\n",
       "      <td>28.0</td>\n",
       "      <td>1.0</td>\n",
       "      <td>9.0</td>\n",
       "      <td>1.0</td>\n",
       "      <td>1968.0</td>\n",
       "      <td>2.0</td>\n",
       "      <td>6.0</td>\n",
       "      <td>...</td>\n",
       "      <td>False</td>\n",
       "      <td>False</td>\n",
       "      <td>False</td>\n",
       "      <td>False</td>\n",
       "      <td>False</td>\n",
       "      <td>False</td>\n",
       "      <td>False</td>\n",
       "      <td>False</td>\n",
       "      <td>0</td>\n",
       "      <td>novogireevo</td>\n",
       "    </tr>\n",
       "  </tbody>\n",
       "</table>\n",
       "<p>30471 rows × 345 columns</p>\n",
       "</div>"
      ],
      "text/plain": [
       "          id   timestamp  full_sq  life_sq  floor  max_floor  material  \\\n",
       "0          1  2011-08-20       43     27.0    4.0       12.0       1.0   \n",
       "1          2  2011-08-23       34     19.0    3.0       12.0       1.0   \n",
       "2          3  2011-08-27       43     29.0    2.0       12.0       1.0   \n",
       "3          4  2011-09-01       89     50.0    9.0       12.0       1.0   \n",
       "4          5  2011-09-05       77     77.0    4.0       12.0       1.0   \n",
       "...      ...         ...      ...      ...    ...        ...       ...   \n",
       "30466  30469  2015-06-30       44     27.0    7.0        9.0       1.0   \n",
       "30467  30470  2015-06-30       86     59.0    3.0        9.0       2.0   \n",
       "30468  30471  2015-06-30       45     30.0   10.0       20.0       1.0   \n",
       "30469  30472  2015-06-30       64     32.0    5.0       15.0       1.0   \n",
       "30470  30473  2015-06-30       43     28.0    1.0        9.0       1.0   \n",
       "\n",
       "       build_year  num_room  kitch_sq  ...  cafe_avg_price_2000_ismissing  \\\n",
       "0          1979.0       2.0       6.0  ...                          False   \n",
       "1          1979.0       2.0       6.0  ...                          False   \n",
       "2          1979.0       2.0       6.0  ...                          False   \n",
       "3          1979.0       2.0       6.0  ...                          False   \n",
       "4          1979.0       2.0       6.0  ...                          False   \n",
       "...           ...       ...       ...  ...                            ...   \n",
       "30466      1975.0       2.0       6.0  ...                          False   \n",
       "30467      1935.0       4.0      10.0  ...                          False   \n",
       "30468      1979.0       1.0       1.0  ...                          False   \n",
       "30469      2003.0       2.0      11.0  ...                          False   \n",
       "30470      1968.0       2.0       6.0  ...                          False   \n",
       "\n",
       "      cafe_sum_3000_min_price_avg_ismissing  \\\n",
       "0                                     False   \n",
       "1                                     False   \n",
       "2                                     False   \n",
       "3                                     False   \n",
       "4                                     False   \n",
       "...                                     ...   \n",
       "30466                                 False   \n",
       "30467                                 False   \n",
       "30468                                 False   \n",
       "30469                                 False   \n",
       "30470                                 False   \n",
       "\n",
       "      cafe_sum_3000_max_price_avg_ismissing  cafe_avg_price_3000_ismissing  \\\n",
       "0                                     False                          False   \n",
       "1                                     False                          False   \n",
       "2                                     False                          False   \n",
       "3                                     False                          False   \n",
       "4                                     False                          False   \n",
       "...                                     ...                            ...   \n",
       "30466                                 False                          False   \n",
       "30467                                 False                          False   \n",
       "30468                                 False                          False   \n",
       "30469                                 False                          False   \n",
       "30470                                 False                          False   \n",
       "\n",
       "       prom_part_5000_ismissing  cafe_sum_5000_min_price_avg_ismissing  \\\n",
       "0                         False                                  False   \n",
       "1                         False                                  False   \n",
       "2                         False                                  False   \n",
       "3                         False                                  False   \n",
       "4                         False                                  False   \n",
       "...                         ...                                    ...   \n",
       "30466                     False                                  False   \n",
       "30467                     False                                  False   \n",
       "30468                     False                                  False   \n",
       "30469                     False                                  False   \n",
       "30470                     False                                  False   \n",
       "\n",
       "       cafe_sum_5000_max_price_avg_ismissing  cafe_avg_price_5000_ismissing  \\\n",
       "0                                      False                          False   \n",
       "1                                      False                          False   \n",
       "2                                      False                          False   \n",
       "3                                      False                          False   \n",
       "4                                      False                          False   \n",
       "...                                      ...                            ...   \n",
       "30466                                  False                          False   \n",
       "30467                                  False                          False   \n",
       "30468                                  False                          False   \n",
       "30469                                  False                          False   \n",
       "30470                                  False                          False   \n",
       "\n",
       "       num_missing        sub_area_lower  \n",
       "0                9              bibirevo  \n",
       "1                6     nagatinskij zaton  \n",
       "2                6        tekstil'shhiki  \n",
       "3                7                mitino  \n",
       "4                6             basmannoe  \n",
       "...            ...                   ...  \n",
       "30466            1              otradnoe  \n",
       "30467            0              tverskoe  \n",
       "30468           21  poselenie vnukovskoe  \n",
       "30469            0          obruchevskoe  \n",
       "30470            0           novogireevo  \n",
       "\n",
       "[30471 rows x 345 columns]"
      ]
     },
     "execution_count": 25,
     "metadata": {},
     "output_type": "execute_result"
    }
   ],
   "source": [
    "df"
   ]
  },
  {
   "cell_type": "code",
   "execution_count": 26,
   "metadata": {},
   "outputs": [
    {
     "data": {
      "text/plain": [
       "0        2011-08-20\n",
       "1        2011-08-23\n",
       "2        2011-08-27\n",
       "3        2011-09-01\n",
       "4        2011-09-05\n",
       "            ...    \n",
       "30466    2015-06-30\n",
       "30467    2015-06-30\n",
       "30468    2015-06-30\n",
       "30469    2015-06-30\n",
       "30470    2015-06-30\n",
       "Name: timestamp, Length: 30471, dtype: object"
      ]
     },
     "execution_count": 26,
     "metadata": {},
     "output_type": "execute_result"
    }
   ],
   "source": [
    "df['timestamp']"
   ]
  },
  {
   "cell_type": "code",
   "execution_count": 39,
   "metadata": {},
   "outputs": [
    {
     "name": "stdout",
     "output_type": "stream",
     "text": [
      "2014    13662\n",
      "2013     7978\n",
      "2012     4839\n",
      "2015     3239\n",
      "2011      753\n",
      "Name: year, dtype: int64\n",
      "\n",
      "12    3400\n",
      "4     3191\n",
      "3     2972\n",
      "11    2970\n",
      "10    2736\n",
      "6     2570\n",
      "5     2496\n",
      "9     2346\n",
      "2     2275\n",
      "7     1875\n",
      "8     1831\n",
      "1     1809\n",
      "Name: month, dtype: int64\n"
     ]
    }
   ],
   "source": [
    "# We can see that \"timestamp\" is in string form (object type) which is difficult to analyze and should be converted to a timestamp\n",
    "df['timestamp_dt'] = pd.to_datetime(df['timestamp'], format='%Y-%m-%d')\n",
    "df['year'] = df['timestamp_dt'].dt.year\n",
    "df['month'] = df['timestamp_dt'].dt.month\n",
    "df['weekday'] = df['timestamp_dt'].dt.month\n",
    "\n",
    "print(df['year'].value_counts(dropna=False))\n",
    "print()\n",
    "print(df['month'].value_counts(dropna=False))"
   ]
  },
  {
   "cell_type": "code",
   "execution_count": 28,
   "metadata": {},
   "outputs": [
    {
     "data": {
      "text/plain": [
       "0       2011-08-20\n",
       "1       2011-08-23\n",
       "2       2011-08-27\n",
       "3       2011-09-01\n",
       "4       2011-09-05\n",
       "           ...    \n",
       "30466   2015-06-30\n",
       "30467   2015-06-30\n",
       "30468   2015-06-30\n",
       "30469   2015-06-30\n",
       "30470   2015-06-30\n",
       "Name: timestamp_dt, Length: 30471, dtype: datetime64[ns]"
      ]
     },
     "execution_count": 28,
     "metadata": {},
     "output_type": "execute_result"
    }
   ],
   "source": [
    "df['timestamp_dt']"
   ]
  },
  {
   "cell_type": "markdown",
   "metadata": {},
   "source": [
    "### Categorical Values"
   ]
  },
  {
   "cell_type": "markdown",
   "metadata": {},
   "source": [
    "A dataset is created to illustrate this since there is not cleansing required in the set being used in this exercise\n",
    "\n",
    "A statisitical function is used to evaluate various values and determine if they are likely to be the same as the named ones"
   ]
  },
  {
   "cell_type": "code",
   "execution_count": 40,
   "metadata": {},
   "outputs": [
    {
     "data": {
      "text/html": [
       "<div>\n",
       "<style scoped>\n",
       "    .dataframe tbody tr th:only-of-type {\n",
       "        vertical-align: middle;\n",
       "    }\n",
       "\n",
       "    .dataframe tbody tr th {\n",
       "        vertical-align: top;\n",
       "    }\n",
       "\n",
       "    .dataframe thead th {\n",
       "        text-align: right;\n",
       "    }\n",
       "</style>\n",
       "<table border=\"1\" class=\"dataframe\">\n",
       "  <thead>\n",
       "    <tr style=\"text-align: right;\">\n",
       "      <th></th>\n",
       "      <th>city</th>\n",
       "      <th>city_distance_toronto</th>\n",
       "      <th>city_distance_vancouver</th>\n",
       "    </tr>\n",
       "  </thead>\n",
       "  <tbody>\n",
       "    <tr>\n",
       "      <td>0</td>\n",
       "      <td>torontoo</td>\n",
       "      <td>1</td>\n",
       "      <td>8</td>\n",
       "    </tr>\n",
       "    <tr>\n",
       "      <td>1</td>\n",
       "      <td>toronto</td>\n",
       "      <td>0</td>\n",
       "      <td>8</td>\n",
       "    </tr>\n",
       "    <tr>\n",
       "      <td>2</td>\n",
       "      <td>tronto</td>\n",
       "      <td>1</td>\n",
       "      <td>8</td>\n",
       "    </tr>\n",
       "    <tr>\n",
       "      <td>3</td>\n",
       "      <td>vancouver</td>\n",
       "      <td>8</td>\n",
       "      <td>0</td>\n",
       "    </tr>\n",
       "    <tr>\n",
       "      <td>4</td>\n",
       "      <td>vancover</td>\n",
       "      <td>7</td>\n",
       "      <td>1</td>\n",
       "    </tr>\n",
       "    <tr>\n",
       "      <td>5</td>\n",
       "      <td>vancouvr</td>\n",
       "      <td>7</td>\n",
       "      <td>1</td>\n",
       "    </tr>\n",
       "    <tr>\n",
       "      <td>6</td>\n",
       "      <td>montreal</td>\n",
       "      <td>7</td>\n",
       "      <td>8</td>\n",
       "    </tr>\n",
       "    <tr>\n",
       "      <td>7</td>\n",
       "      <td>calgary</td>\n",
       "      <td>7</td>\n",
       "      <td>8</td>\n",
       "    </tr>\n",
       "  </tbody>\n",
       "</table>\n",
       "</div>"
      ],
      "text/plain": [
       "        city  city_distance_toronto  city_distance_vancouver\n",
       "0   torontoo                      1                        8\n",
       "1    toronto                      0                        8\n",
       "2     tronto                      1                        8\n",
       "3  vancouver                      8                        0\n",
       "4   vancover                      7                        1\n",
       "5   vancouvr                      7                        1\n",
       "6   montreal                      7                        8\n",
       "7    calgary                      7                        8"
      ]
     },
     "execution_count": 40,
     "metadata": {},
     "output_type": "execute_result"
    }
   ],
   "source": [
    "from nltk.metrics import edit_distance\n",
    "\n",
    "df_city_ex = pd.DataFrame(data={'city': ['torontoo', 'toronto', 'tronto', 'vancouver', 'vancover', 'vancouvr', 'montreal', 'calgary']})\n",
    "\n",
    "\n",
    "df_city_ex['city_distance_toronto'] = df_city_ex['city'].map(lambda x: edit_distance(x, 'toronto'))\n",
    "df_city_ex['city_distance_vancouver'] = df_city_ex['city'].map(lambda x: edit_distance(x, 'vancouver'))\n",
    "df_city_ex"
   ]
  },
  {
   "cell_type": "markdown",
   "metadata": {},
   "source": [
    "Now that we have identified values that are spelled wrong, we can change the value to the correct one"
   ]
  },
  {
   "cell_type": "code",
   "execution_count": 43,
   "metadata": {},
   "outputs": [
    {
     "data": {
      "text/html": [
       "<div>\n",
       "<style scoped>\n",
       "    .dataframe tbody tr th:only-of-type {\n",
       "        vertical-align: middle;\n",
       "    }\n",
       "\n",
       "    .dataframe tbody tr th {\n",
       "        vertical-align: top;\n",
       "    }\n",
       "\n",
       "    .dataframe thead th {\n",
       "        text-align: right;\n",
       "    }\n",
       "</style>\n",
       "<table border=\"1\" class=\"dataframe\">\n",
       "  <thead>\n",
       "    <tr style=\"text-align: right;\">\n",
       "      <th></th>\n",
       "      <th>city</th>\n",
       "      <th>city_distance_toronto</th>\n",
       "      <th>city_distance_vancouver</th>\n",
       "    </tr>\n",
       "  </thead>\n",
       "  <tbody>\n",
       "    <tr>\n",
       "      <td>0</td>\n",
       "      <td>toronto</td>\n",
       "      <td>1</td>\n",
       "      <td>8</td>\n",
       "    </tr>\n",
       "    <tr>\n",
       "      <td>1</td>\n",
       "      <td>toronto</td>\n",
       "      <td>0</td>\n",
       "      <td>8</td>\n",
       "    </tr>\n",
       "    <tr>\n",
       "      <td>2</td>\n",
       "      <td>toronto</td>\n",
       "      <td>1</td>\n",
       "      <td>8</td>\n",
       "    </tr>\n",
       "    <tr>\n",
       "      <td>3</td>\n",
       "      <td>vancouver</td>\n",
       "      <td>8</td>\n",
       "      <td>0</td>\n",
       "    </tr>\n",
       "    <tr>\n",
       "      <td>4</td>\n",
       "      <td>vancouver</td>\n",
       "      <td>7</td>\n",
       "      <td>1</td>\n",
       "    </tr>\n",
       "    <tr>\n",
       "      <td>5</td>\n",
       "      <td>vancouver</td>\n",
       "      <td>7</td>\n",
       "      <td>1</td>\n",
       "    </tr>\n",
       "    <tr>\n",
       "      <td>6</td>\n",
       "      <td>montreal</td>\n",
       "      <td>7</td>\n",
       "      <td>8</td>\n",
       "    </tr>\n",
       "    <tr>\n",
       "      <td>7</td>\n",
       "      <td>calgary</td>\n",
       "      <td>7</td>\n",
       "      <td>8</td>\n",
       "    </tr>\n",
       "  </tbody>\n",
       "</table>\n",
       "</div>"
      ],
      "text/plain": [
       "        city  city_distance_toronto  city_distance_vancouver\n",
       "0    toronto                      1                        8\n",
       "1    toronto                      0                        8\n",
       "2    toronto                      1                        8\n",
       "3  vancouver                      8                        0\n",
       "4  vancouver                      7                        1\n",
       "5  vancouver                      7                        1\n",
       "6   montreal                      7                        8\n",
       "7    calgary                      7                        8"
      ]
     },
     "execution_count": 43,
     "metadata": {},
     "output_type": "execute_result"
    }
   ],
   "source": [
    "msk = df_city_ex['city_distance_toronto'] <= 2\n",
    "df_city_ex.loc[msk, 'city'] = 'toronto'\n",
    "\n",
    "msk = df_city_ex['city_distance_vancouver'] <= 2\n",
    "df_city_ex.loc[msk, 'city'] = 'vancouver'\n",
    "\n",
    "df_city_ex"
   ]
  },
  {
   "cell_type": "markdown",
   "metadata": {},
   "source": [
    "### Addresses"
   ]
  },
  {
   "cell_type": "code",
   "execution_count": 46,
   "metadata": {},
   "outputs": [
    {
     "data": {
      "text/html": [
       "<div>\n",
       "<style scoped>\n",
       "    .dataframe tbody tr th:only-of-type {\n",
       "        vertical-align: middle;\n",
       "    }\n",
       "\n",
       "    .dataframe tbody tr th {\n",
       "        vertical-align: top;\n",
       "    }\n",
       "\n",
       "    .dataframe thead th {\n",
       "        text-align: right;\n",
       "    }\n",
       "</style>\n",
       "<table border=\"1\" class=\"dataframe\">\n",
       "  <thead>\n",
       "    <tr style=\"text-align: right;\">\n",
       "      <th></th>\n",
       "      <th>address</th>\n",
       "    </tr>\n",
       "  </thead>\n",
       "  <tbody>\n",
       "    <tr>\n",
       "      <td>0</td>\n",
       "      <td>123 MAIN St Apartment 15</td>\n",
       "    </tr>\n",
       "    <tr>\n",
       "      <td>1</td>\n",
       "      <td>123 Main Street Apt 12</td>\n",
       "    </tr>\n",
       "    <tr>\n",
       "      <td>2</td>\n",
       "      <td>543 FirSt Av.</td>\n",
       "    </tr>\n",
       "  </tbody>\n",
       "</table>\n",
       "</div>"
      ],
      "text/plain": [
       "                     address\n",
       "0   123 MAIN St Apartment 15\n",
       "1  123 Main Street Apt 12   \n",
       "2              543 FirSt Av."
      ]
     },
     "execution_count": 46,
     "metadata": {},
     "output_type": "execute_result"
    }
   ],
   "source": [
    "# adding an address column with messy formatted addresses\n",
    "df_add_ex = pd.DataFrame(['123 MAIN St Apartment 15', '123 Main Street Apt 12   ', '543 FirSt Av.'], columns=['address'])\n",
    "df_add_ex"
   ]
  },
  {
   "cell_type": "code",
   "execution_count": 49,
   "metadata": {},
   "outputs": [
    {
     "data": {
      "text/html": [
       "<div>\n",
       "<style scoped>\n",
       "    .dataframe tbody tr th:only-of-type {\n",
       "        vertical-align: middle;\n",
       "    }\n",
       "\n",
       "    .dataframe tbody tr th {\n",
       "        vertical-align: top;\n",
       "    }\n",
       "\n",
       "    .dataframe thead th {\n",
       "        text-align: right;\n",
       "    }\n",
       "</style>\n",
       "<table border=\"1\" class=\"dataframe\">\n",
       "  <thead>\n",
       "    <tr style=\"text-align: right;\">\n",
       "      <th></th>\n",
       "      <th>address</th>\n",
       "      <th>address_std</th>\n",
       "    </tr>\n",
       "  </thead>\n",
       "  <tbody>\n",
       "    <tr>\n",
       "      <td>0</td>\n",
       "      <td>123 MAIN St Apartment 15</td>\n",
       "      <td>123 main st apt 15</td>\n",
       "    </tr>\n",
       "    <tr>\n",
       "      <td>1</td>\n",
       "      <td>123 Main Street Apt 12</td>\n",
       "      <td>123 main st apt 12</td>\n",
       "    </tr>\n",
       "    <tr>\n",
       "      <td>2</td>\n",
       "      <td>543 FirSt Av.</td>\n",
       "      <td>543 first ave</td>\n",
       "    </tr>\n",
       "  </tbody>\n",
       "</table>\n",
       "</div>"
      ],
      "text/plain": [
       "                     address         address_std\n",
       "0   123 MAIN St Apartment 15  123 main st apt 15\n",
       "1  123 Main Street Apt 12     123 main st apt 12\n",
       "2              543 FirSt Av.       543 first ave"
      ]
     },
     "execution_count": 49,
     "metadata": {},
     "output_type": "execute_result"
    }
   ],
   "source": [
    "df_add_ex['address_std'] = df_add_ex['address'].str.lower()\n",
    "df_add_ex['address_std'] = df_add_ex['address_std'].str.strip()  # This removes leading and trailing white spaces\n",
    "df_add_ex['address_std'] = df_add_ex['address_std'].str.replace('\\\\.', '')    # Remove periods\n",
    "df_add_ex['address_std'] = df_add_ex['address_std'].str.replace('\\\\bstreet\\\\b', 'st')    #Replace \"street\" with \"st\"\n",
    "df_add_ex['address_std'] = df_add_ex['address_std'].str.replace('\\\\bapartment\\\\b', 'apt')\n",
    "df_add_ex['address_std'] = df_add_ex['address_std'].str.replace('\\\\bav\\\\b', 'ave')\n",
    "\n",
    "df_add_ex"
   ]
  },
  {
   "cell_type": "code",
   "execution_count": null,
   "metadata": {},
   "outputs": [],
   "source": []
  }
 ],
 "metadata": {
  "kernelspec": {
   "display_name": "Python 3",
   "language": "python",
   "name": "python3"
  },
  "language_info": {
   "codemirror_mode": {
    "name": "ipython",
    "version": 3
   },
   "file_extension": ".py",
   "mimetype": "text/x-python",
   "name": "python",
   "nbconvert_exporter": "python",
   "pygments_lexer": "ipython3",
   "version": "3.7.4"
  }
 },
 "nbformat": 4,
 "nbformat_minor": 2
}
